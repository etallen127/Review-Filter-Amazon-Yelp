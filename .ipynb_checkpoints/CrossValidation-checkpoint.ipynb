{
 "cells": [
  {
   "cell_type": "code",
   "execution_count": 1,
   "metadata": {
    "collapsed": true
   },
   "outputs": [],
   "source": [
    "%matplotlib inline\n",
    "import numpy as np\n",
    "import pandas as pd\n",
    "import scipy\n",
    "import sklearn\n",
    "import matplotlib.pyplot as plt\n",
    "import seaborn as sns"
   ]
  },
  {
   "cell_type": "code",
   "execution_count": 3,
   "metadata": {},
   "outputs": [],
   "source": [
    "# importing amazon review data\n",
    "df = pd.read_csv('Untitled spreadsheet - amazon_cells_labelled-Copy1.csv', header=None)\n",
    "df.columns = ['message', 'review']"
   ]
  },
  {
   "cell_type": "code",
   "execution_count": 4,
   "metadata": {
    "scrolled": false
   },
   "outputs": [
    {
     "data": {
      "text/html": [
       "<div>\n",
       "<style>\n",
       "    .dataframe thead tr:only-child th {\n",
       "        text-align: right;\n",
       "    }\n",
       "\n",
       "    .dataframe thead th {\n",
       "        text-align: left;\n",
       "    }\n",
       "\n",
       "    .dataframe tbody tr th {\n",
       "        vertical-align: top;\n",
       "    }\n",
       "</style>\n",
       "<table border=\"1\" class=\"dataframe\">\n",
       "  <thead>\n",
       "    <tr style=\"text-align: right;\">\n",
       "      <th></th>\n",
       "      <th>message</th>\n",
       "      <th>review</th>\n",
       "    </tr>\n",
       "  </thead>\n",
       "  <tbody>\n",
       "    <tr>\n",
       "      <th>0</th>\n",
       "      <td>So there is no way for me to plug it in here i...</td>\n",
       "      <td>0</td>\n",
       "    </tr>\n",
       "    <tr>\n",
       "      <th>1</th>\n",
       "      <td>Good case, Excellent value.</td>\n",
       "      <td>1</td>\n",
       "    </tr>\n",
       "    <tr>\n",
       "      <th>2</th>\n",
       "      <td>Great for the jawbone.</td>\n",
       "      <td>1</td>\n",
       "    </tr>\n",
       "    <tr>\n",
       "      <th>3</th>\n",
       "      <td>Tied to charger for conversations lasting more...</td>\n",
       "      <td>0</td>\n",
       "    </tr>\n",
       "    <tr>\n",
       "      <th>4</th>\n",
       "      <td>The mic is great.</td>\n",
       "      <td>1</td>\n",
       "    </tr>\n",
       "  </tbody>\n",
       "</table>\n",
       "</div>"
      ],
      "text/plain": [
       "                                             message  review\n",
       "0  So there is no way for me to plug it in here i...       0\n",
       "1                        Good case, Excellent value.       1\n",
       "2                             Great for the jawbone.       1\n",
       "3  Tied to charger for conversations lasting more...       0\n",
       "4                                  The mic is great.       1"
      ]
     },
     "execution_count": 4,
     "metadata": {},
     "output_type": "execute_result"
    }
   ],
   "source": [
    "df.head()"
   ]
  },
  {
   "cell_type": "code",
   "execution_count": 5,
   "metadata": {
    "collapsed": true
   },
   "outputs": [],
   "source": [
    "# list of key words for a positive review\n",
    "keywords = ['good', 'Great', 'awesome', 'best', 'nice', 'quality','impressed','Excellent','well','ideal','highly','must have','love','beautiful','super']\n",
    "\n",
    "for key in keywords:\n",
    "    df[str(key)] = df.message.str.contains(\n",
    "        ' ' + str(key) + ' ',\n",
    "        case=False\n",
    "    )\n",
    "    # added spaces around the key so that we're getting the word,\n",
    "    # not just pattern matching."
   ]
  },
  {
   "cell_type": "code",
   "execution_count": 6,
   "metadata": {},
   "outputs": [
    {
     "data": {
      "text/plain": [
       "<matplotlib.axes._subplots.AxesSubplot at 0x2996a50b668>"
      ]
     },
     "execution_count": 6,
     "metadata": {},
     "output_type": "execute_result"
    },
    {
     "data": {
      "image/png": "[encoded data removed]",
      "text/plain": [
       "<matplotlib.figure.Figure at 0x2996a50bcc0>"
      ]
     },
     "metadata": {},
     "output_type": "display_data"
    }
   ],
   "source": [
    "# checking the corrilation using a heatmap\n",
    "sns.heatmap(df.corr())"
   ]
  },
  {
   "cell_type": "code",
   "execution_count": 7,
   "metadata": {
    "collapsed": true
   },
   "outputs": [],
   "source": [
    "df['review'] = (df['review'] == 1)\n",
    "# changing review into bool value"
   ]
  },
  {
   "cell_type": "code",
   "execution_count": 8,
   "metadata": {
    "collapsed": true
   },
   "outputs": [],
   "source": [
    "# adding our keywords as test data and are prediction target\n",
    "data = df[keywords]\n",
    "target = df['review']"
   ]
  },
  {
   "cell_type": "code",
   "execution_count": 10,
   "metadata": {},
   "outputs": [
    {
     "name": "stdout",
     "output_type": "stream",
     "text": [
      "{'fit_time': array([ 0.0059998 ,  0.00300169,  0.00200057,  0.00200105,  0.00199938]), 'score_time': array([ 0.00100064,  0.        ,  0.        ,  0.00100327,  0.        ]), 'test_score': array([ 0.635,  0.62 ,  0.61 ,  0.62 ,  0.575]), 'train_score': array([ 0.6125 ,  0.61625,  0.61875,  0.61875,  0.6275 ])}\n",
      "Number of mislabeled points out of a total 1000 points : 381\n"
     ]
    }
   ],
   "source": [
    "# Our data is binary / boolean, so we're importing the Bernoulli classifier.\n",
    "# We are also Importing corss_validate from sklearn to test our data using multiple folds\n",
    "from sklearn.naive_bayes import BernoulliNB\n",
    "from sklearn.model_selection import cross_validate\n",
    "\n",
    "# Instantiate our model and store it in a new variable.\n",
    "bnb = BernoulliNB()\n",
    "\n",
    "# Fit our model to the data.\n",
    "print(cross_validate(bnb, data, target, cv=5))\n",
    "\n",
    "# Fit our model to the data.\n",
    "bnb.fit(data, target)\n",
    "\n",
    "# Classify, storing the result in a new variable.\n",
    "y_pred = bnb.predict(data)\n",
    "\n",
    "# Display our results.\n",
    "print(\"Number of mislabeled points out of a total {} points : {}\".format(\n",
    "    data.shape[0],\n",
    "    (target != y_pred).sum()\n",
    "))"
   ]
  },
  {
   "cell_type": "markdown",
   "metadata": {},
   "source": [
    "### Results of CV\n",
    "\n",
    "From out cross validation we can tell that we are currently over fitting our model.  We know this by looking at our training scores in comparison to our test scores.  The fifth score is all the way down at 57.5"
   ]
  },
  {
   "cell_type": "code",
   "execution_count": 11,
   "metadata": {},
   "outputs": [
    {
     "data": {
      "text/plain": [
       "array([[469,  31],\n",
       "       [350, 150]], dtype=int64)"
      ]
     },
     "execution_count": 11,
     "metadata": {},
     "output_type": "execute_result"
    }
   ],
   "source": [
    "# importing confusion matrix to see where we were right and where we were wrong\n",
    "from sklearn.metrics import confusion_matrix\n",
    "confusion_matrix(target, y_pred)"
   ]
  },
  {
   "cell_type": "code",
   "execution_count": 12,
   "metadata": {},
   "outputs": [
    {
     "name": "stdout",
     "output_type": "stream",
     "text": [
      "             precision    recall  f1-score   support\n",
      "\n",
      "      False       0.57      0.94      0.71       500\n",
      "       True       0.83      0.30      0.44       500\n",
      "\n",
      "avg / total       0.70      0.62      0.58      1000\n",
      "\n"
     ]
    }
   ],
   "source": [
    "# Importing metrics to see some advanced stats and see how well our model has preformed\n",
    "from sklearn.metrics import classification_report\n",
    "print(classification_report(target, y_pred))"
   ]
  },
  {
   "cell_type": "markdown",
   "metadata": {},
   "source": [
    "## Analysis For Amazon Review Classifier\n",
    "\n",
    "First using sklearn's confusion_matrix we can see a nice break down of our models predictions.  Currently, our model is 61.9% accurate. Our errors consist of 31 false positives or Type 1 errors and 350 false negative, or type 2 errors. A possible solution would be to add more features to try and cut down on our type 2 errors.  Before adjusting our features lets see what affect changing our model with have on our results."
   ]
  },
  {
   "cell_type": "code",
   "execution_count": 14,
   "metadata": {
    "collapsed": true
   },
   "outputs": [
    {
     "name": "stdout",
     "output_type": "stream",
     "text": [
      "{'fit_time': array([ 0.00800014,  0.00350428,  0.00249839,  0.00300002,  0.00200081]), 'score_time': array([ 0.00099993,  0.00049996,  0.00049996,  0.00050044,  0.00050044]), 'test_score': array([ 0.635,  0.62 ,  0.61 ,  0.62 ,  0.575]), 'train_score': array([ 0.6125 ,  0.61625,  0.61875,  0.61875,  0.6275 ])}\n",
      "Number of mislabeled points out of a total 1000 points : 409\n"
     ]
    }
   ],
   "source": [
    "from sklearn.naive_bayes import GaussianNB\n",
    "\n",
    "#creaing variable for our model\n",
    "gnb = GaussianNB()\n",
    "\n",
    "# setting up our cross validation\n",
    "print(cross_validate(bnb, data, target, cv=5))\n",
    "\n",
    "# Fitting our model to the data\n",
    "gnb.fit(data, target)\n",
    "\n",
    "# Storing the result as a new variable\n",
    "y_pred = gnb.predict(data)\n",
    "\n",
    "# Display our results.\n",
    "print(\"Number of mislabeled points out of a total {} points : {}\".format(\n",
    "    data.shape[0],\n",
    "    (target != y_pred).sum()\n",
    "))"
   ]
  },
  {
   "cell_type": "markdown",
   "metadata": {},
   "source": [
    "### Results of CV\n",
    "\n",
    "This model looks like it is having the exact same problem as the one before. We can tell that we are currently over fitting our model.  We know this by looking at our training scores in comparison to our test scores.  The fifth score is all the way down at 57.5"
   ]
  },
  {
   "cell_type": "code",
   "execution_count": 12,
   "metadata": {},
   "outputs": [
    {
     "data": {
      "text/plain": [
       "array([[498,   2],\n",
       "       [407,  93]], dtype=int64)"
      ]
     },
     "execution_count": 12,
     "metadata": {},
     "output_type": "execute_result"
    }
   ],
   "source": [
    "# importing confusion matrix to see where we were right and where we were wrong\n",
    "confusion_matrix(target, y_pred)"
   ]
  },
  {
   "cell_type": "code",
   "execution_count": 13,
   "metadata": {},
   "outputs": [
    {
     "name": "stdout",
     "output_type": "stream",
     "text": [
      "             precision    recall  f1-score   support\n",
      "\n",
      "      False       0.55      1.00      0.71       500\n",
      "       True       0.98      0.19      0.31       500\n",
      "\n",
      "avg / total       0.76      0.59      0.51      1000\n",
      "\n"
     ]
    }
   ],
   "source": [
    "print(classification_report(target, y_pred))"
   ]
  },
  {
   "cell_type": "markdown",
   "metadata": {},
   "source": [
    "## Analysis for Amazon GaussianNB\n",
    "\n",
    "Using this type of model has lowered our overall accuracy to 58.1%. However, using this model we have reduced out Type 1 errors from 31 to only 2. Although our over all accuracy is lower this maybe worth the 3.8% drop to avoid giving false results."
   ]
  },
  {
   "cell_type": "code",
   "execution_count": 2,
   "metadata": {},
   "outputs": [
    {
     "data": {
      "text/html": [
       "<div>\n",
       "<style>\n",
       "    .dataframe thead tr:only-child th {\n",
       "        text-align: right;\n",
       "    }\n",
       "\n",
       "    .dataframe thead th {\n",
       "        text-align: left;\n",
       "    }\n",
       "\n",
       "    .dataframe tbody tr th {\n",
       "        vertical-align: top;\n",
       "    }\n",
       "</style>\n",
       "<table border=\"1\" class=\"dataframe\">\n",
       "  <thead>\n",
       "    <tr style=\"text-align: right;\">\n",
       "      <th></th>\n",
       "      <th>message</th>\n",
       "      <th>review</th>\n",
       "    </tr>\n",
       "  </thead>\n",
       "  <tbody>\n",
       "    <tr>\n",
       "      <th>0</th>\n",
       "      <td>Crust is not good.</td>\n",
       "      <td>0</td>\n",
       "    </tr>\n",
       "    <tr>\n",
       "      <th>1</th>\n",
       "      <td>Not tasty and the texture was just nasty.</td>\n",
       "      <td>0</td>\n",
       "    </tr>\n",
       "    <tr>\n",
       "      <th>2</th>\n",
       "      <td>Stopped by during the late May bank holiday of...</td>\n",
       "      <td>1</td>\n",
       "    </tr>\n",
       "    <tr>\n",
       "      <th>3</th>\n",
       "      <td>The selection on the menu was great and so wer...</td>\n",
       "      <td>1</td>\n",
       "    </tr>\n",
       "    <tr>\n",
       "      <th>4</th>\n",
       "      <td>Now I am getting angry and I want my damn pho.</td>\n",
       "      <td>0</td>\n",
       "    </tr>\n",
       "  </tbody>\n",
       "</table>\n",
       "</div>"
      ],
      "text/plain": [
       "                                             message  review\n",
       "0                                 Crust is not good.       0\n",
       "1          Not tasty and the texture was just nasty.       0\n",
       "2  Stopped by during the late May bank holiday of...       1\n",
       "3  The selection on the menu was great and so wer...       1\n",
       "4     Now I am getting angry and I want my damn pho.       0"
      ]
     },
     "execution_count": 2,
     "metadata": {},
     "output_type": "execute_result"
    }
   ],
   "source": [
    "# lets move on to our next dataset and see how our models adapt.\n",
    "# here I am importing a dataset of yelp reviews.\n",
    "yelp = pd.read_csv('yelp_labelled - yelp_labelled-Copy1.csv')\n",
    "yelp.columns = ['message', 'review']\n",
    "yelp.head()"
   ]
  },
  {
   "cell_type": "code",
   "execution_count": 3,
   "metadata": {
    "collapsed": true
   },
   "outputs": [],
   "source": [
    "# After looking at the head of this dataset I think it would be easier to make a model to find negative reviews"
   ]
  },
  {
   "cell_type": "code",
   "execution_count": 4,
   "metadata": {
    "collapsed": true
   },
   "outputs": [],
   "source": [
    "# lets set up our list of negative words to search for in our yelp reviews\n",
    "ykeywords = ['gross','nasty','angry','rubber','bad','awful','disgusted','disgusting','dirty','blah','bland','never','worst','poor','drag','frozen']\n",
    "\n",
    "for key in ykeywords:\n",
    "    yelp[str(key)] = yelp.message.str.contains(\n",
    "        ' ' + str(key) + ' ',\n",
    "        case=False\n",
    "    )\n",
    "    # added spaces around the key so that we're getting the word,\n",
    "    # not just pattern matching."
   ]
  },
  {
   "cell_type": "code",
   "execution_count": 5,
   "metadata": {},
   "outputs": [
    {
     "data": {
      "text/plain": [
       "<matplotlib.axes._subplots.AxesSubplot at 0x21af6b57e80>"
      ]
     },
     "execution_count": 5,
     "metadata": {},
     "output_type": "execute_result"
    },
    {
     "data": {
      "image/png": "[encoded data removed]",
      "text/plain": [
       "<matplotlib.figure.Figure at 0x21af6b579b0>"
      ]
     },
     "metadata": {},
     "output_type": "display_data"
    }
   ],
   "source": [
    "# checking the corrilation using a heatmap\n",
    "sns.heatmap(yelp.corr())"
   ]
  },
  {
   "cell_type": "code",
   "execution_count": 6,
   "metadata": {
    "collapsed": true
   },
   "outputs": [],
   "source": [
    "yelp['review'] = (yelp['review'] == 0)\n",
    "# changing review into bool value"
   ]
  },
  {
   "cell_type": "code",
   "execution_count": 7,
   "metadata": {
    "collapsed": true
   },
   "outputs": [],
   "source": [
    "# map our keywords so they are ready for testing, set the target of what we want to predict\n",
    "ypdata = yelp[ykeywords]\n",
    "yptarget = yelp['review']"
   ]
  },
  {
   "cell_type": "code",
   "execution_count": 10,
   "metadata": {},
   "outputs": [
    {
     "name": "stdout",
     "output_type": "stream",
     "text": [
      "{'fit_time': array([ 0.00199962,  0.00199938,  0.00199986,  0.00200057,  0.00099969]), 'score_time': array([ 0.        ,  0.00100017,  0.        ,  0.00099945,  0.0010004 ]), 'test_score': array([ 0.555     ,  0.555     ,  0.53      ,  0.545     ,  0.51758794]), 'train_score': array([ 0.54067584,  0.5456821 ,  0.55193992,  0.5456821 ,  0.55375   ])}\n",
      "Number of mislabeled points out of a total 999 points : 452\n"
     ]
    }
   ],
   "source": [
    "# Our data is binary / boolean, so we're importing the Bernoulli classifier.\n",
    "from sklearn.naive_bayes import BernoulliNB\n",
    "\n",
    "# import cross validation from sklearn\n",
    "from sklearn.model_selection import cross_validate\n",
    "\n",
    "# Instantiate our model and store it in a new variable.\n",
    "bnb = BernoulliNB()\n",
    "\n",
    "# set up our cross validation\n",
    "print(cross_validate(bnb, ypdata, yptarget, cv=5))\n",
    "\n",
    "# Fit our model to the data.\n",
    "bnb.fit(ypdata, yptarget)\n",
    "\n",
    "# Classify, storing the result in a new variable.\n",
    "yelp_pred = bnb.predict(ypdata)\n",
    "\n",
    "# Display our results.\n",
    "print(\"Number of mislabeled points out of a total {} points : {}\".format(\n",
    "    ypdata.shape[0],\n",
    "    (yptarget != yelp_pred).sum()\n",
    "))"
   ]
  },
  {
   "cell_type": "markdown",
   "metadata": {},
   "source": [
    "### Results of CV\n",
    "\n",
    "This model is actually fitted very well.  Unlike the amazon model there is very little difference between our test and train data."
   ]
  },
  {
   "cell_type": "code",
   "execution_count": 23,
   "metadata": {},
   "outputs": [
    {
     "data": {
      "text/plain": [
       "array([[495,   4],\n",
       "       [448,  52]], dtype=int64)"
      ]
     },
     "execution_count": 23,
     "metadata": {},
     "output_type": "execute_result"
    }
   ],
   "source": [
    "# importing confusion matrix to see where we were right and where we were wrong\n",
    "confusion_matrix(yptarget, yelp_pred)"
   ]
  },
  {
   "cell_type": "code",
   "execution_count": 24,
   "metadata": {},
   "outputs": [
    {
     "name": "stdout",
     "output_type": "stream",
     "text": [
      "             precision    recall  f1-score   support\n",
      "\n",
      "      False       0.52      0.99      0.69       499\n",
      "       True       0.93      0.10      0.19       500\n",
      "\n",
      "avg / total       0.73      0.55      0.44       999\n",
      "\n"
     ]
    }
   ],
   "source": [
    "print(classification_report(yptarget, yelp_pred))"
   ]
  },
  {
   "cell_type": "markdown",
   "metadata": {},
   "source": [
    "## Analysis for Yelp Review Classifier\n",
    "\n",
    "Using our confusion matrix we can see that this model is less accurate than both of our Amazon models,  with only 54.8% accuracy.  However, it has a lot less Type 1 errors then the Amazon BernoulliNB, with only 4.  Lets see if changing this model to a GaussianNB will help our accuracy."
   ]
  },
  {
   "cell_type": "code",
   "execution_count": 11,
   "metadata": {},
   "outputs": [
    {
     "name": "stdout",
     "output_type": "stream",
     "text": [
      "{'fit_time': array([ 0.00300241,  0.00300074,  0.00200009,  0.00200057,  0.00200009]), 'score_time': array([ 0.00099754,  0.00099969,  0.00099993,  0.00099993,  0.        ]), 'test_score': array([ 0.555     ,  0.525     ,  0.525     ,  0.54      ,  0.51758794]), 'train_score': array([ 0.54067584,  0.53692115,  0.53692115,  0.53066333,  0.5375    ])}\n",
      "Number of mislabeled points out of a total 999 points : 465\n"
     ]
    }
   ],
   "source": [
    "# importing Gaussian model\n",
    "from sklearn.naive_bayes import GaussianNB\n",
    "# importing cross validation\n",
    "from sklearn.model_selection import cross_validate\n",
    "\n",
    "#creaing variable for our model\n",
    "gnb = GaussianNB()\n",
    "\n",
    "# applying CV\n",
    "print(cross_validate(gnb, ypdata, yptarget, cv= 5))\n",
    "\n",
    "# Fitting our model to the data\n",
    "gnb.fit(ypdata, yptarget)\n",
    "\n",
    "# Storing the result as a new variable\n",
    "yelp_pred = gnb.predict(ypdata)\n",
    "\n",
    "# Display our results.\n",
    "print(\"Number of mislabeled points out of a total {} points : {}\".format(\n",
    "    ypdata.shape[0],\n",
    "    (yptarget != yelp_pred).sum()\n",
    "))"
   ]
  },
  {
   "cell_type": "markdown",
   "metadata": {},
   "source": [
    "### Results of CV\n",
    "\n",
    "Same as before, changing the type of model have very little affect on our cross validation.  Our model still fits very well. It is displaying very little difference between our test and train data."
   ]
  },
  {
   "cell_type": "code",
   "execution_count": 26,
   "metadata": {},
   "outputs": [
    {
     "data": {
      "text/plain": [
       "array([[498,   1],\n",
       "       [464,  36]], dtype=int64)"
      ]
     },
     "execution_count": 26,
     "metadata": {},
     "output_type": "execute_result"
    }
   ],
   "source": [
    "# importing confusion matrix to see where we were right and where we were wrong\n",
    "confusion_matrix(yptarget, yelp_pred)"
   ]
  },
  {
   "cell_type": "code",
   "execution_count": 27,
   "metadata": {},
   "outputs": [
    {
     "name": "stdout",
     "output_type": "stream",
     "text": [
      "             precision    recall  f1-score   support\n",
      "\n",
      "      False       0.52      1.00      0.68       499\n",
      "       True       0.97      0.07      0.13       500\n",
      "\n",
      "avg / total       0.75      0.53      0.41       999\n",
      "\n"
     ]
    }
   ],
   "source": [
    "print(classification_report(yptarget, yelp_pred))"
   ]
  },
  {
   "cell_type": "markdown",
   "metadata": {},
   "source": [
    "## Analysis for Yelp GaussianNB\n",
    "\n",
    "Once again we see that Gaussian is less accurate only getting 53.5 % of its predictions correct.  However, it does still have less type one errors then our Bernoulli model, but with our Bernoulli model only having 4 type one errrors I don't think it justifies us switching models."
   ]
  },
  {
   "cell_type": "code",
   "execution_count": 12,
   "metadata": {
    "collapsed": true
   },
   "outputs": [],
   "source": [
    "#Now, I am going to switch our amazon model to filter for negative reviews"
   ]
  },
  {
   "cell_type": "code",
   "execution_count": 13,
   "metadata": {
    "collapsed": true
   },
   "outputs": [],
   "source": [
    "df2 = pd.read_csv('Untitled spreadsheet - amazon_cells_labelled-Copy1.csv', header=None)\n",
    "df2.columns = ['message', 'review']"
   ]
  },
  {
   "cell_type": "code",
   "execution_count": 14,
   "metadata": {},
   "outputs": [
    {
     "data": {
      "text/html": [
       "<div>\n",
       "<style>\n",
       "    .dataframe thead tr:only-child th {\n",
       "        text-align: right;\n",
       "    }\n",
       "\n",
       "    .dataframe thead th {\n",
       "        text-align: left;\n",
       "    }\n",
       "\n",
       "    .dataframe tbody tr th {\n",
       "        vertical-align: top;\n",
       "    }\n",
       "</style>\n",
       "<table border=\"1\" class=\"dataframe\">\n",
       "  <thead>\n",
       "    <tr style=\"text-align: right;\">\n",
       "      <th></th>\n",
       "      <th>message</th>\n",
       "      <th>review</th>\n",
       "    </tr>\n",
       "  </thead>\n",
       "  <tbody>\n",
       "    <tr>\n",
       "      <th>0</th>\n",
       "      <td>So there is no way for me to plug it in here i...</td>\n",
       "      <td>0</td>\n",
       "    </tr>\n",
       "    <tr>\n",
       "      <th>1</th>\n",
       "      <td>Good case, Excellent value.</td>\n",
       "      <td>1</td>\n",
       "    </tr>\n",
       "    <tr>\n",
       "      <th>2</th>\n",
       "      <td>Great for the jawbone.</td>\n",
       "      <td>1</td>\n",
       "    </tr>\n",
       "    <tr>\n",
       "      <th>3</th>\n",
       "      <td>Tied to charger for conversations lasting more...</td>\n",
       "      <td>0</td>\n",
       "    </tr>\n",
       "    <tr>\n",
       "      <th>4</th>\n",
       "      <td>The mic is great.</td>\n",
       "      <td>1</td>\n",
       "    </tr>\n",
       "  </tbody>\n",
       "</table>\n",
       "</div>"
      ],
      "text/plain": [
       "                                             message  review\n",
       "0  So there is no way for me to plug it in here i...       0\n",
       "1                        Good case, Excellent value.       1\n",
       "2                             Great for the jawbone.       1\n",
       "3  Tied to charger for conversations lasting more...       0\n",
       "4                                  The mic is great.       1"
      ]
     },
     "execution_count": 14,
     "metadata": {},
     "output_type": "execute_result"
    }
   ],
   "source": [
    "df2.head()"
   ]
  },
  {
   "cell_type": "code",
   "execution_count": 15,
   "metadata": {
    "collapsed": true
   },
   "outputs": [],
   "source": [
    "# list of key words for a positive review\n",
    "keyw = ['bad', 'broken', 'worthless', 'garbage', 'trash', 'awful', 'expensive', 'refund','waste','wasted','problems','short','error','broke','money']\n",
    "\n",
    "for key in keyw:\n",
    "    df2[str(key)] = df2.message.str.contains(\n",
    "        ' ' + str(key) + ' ',\n",
    "        case=False\n",
    "    )\n",
    "    # added spaces around the key so that we're getting the word,\n",
    "    # not just pattern matching."
   ]
  },
  {
   "cell_type": "code",
   "execution_count": 16,
   "metadata": {
    "collapsed": true
   },
   "outputs": [],
   "source": [
    "df2['allcaps'] = df2.message.str.isupper()"
   ]
  },
  {
   "cell_type": "code",
   "execution_count": 17,
   "metadata": {
    "collapsed": true
   },
   "outputs": [],
   "source": [
    "df2['review'] = (df2['review'] == 0)\n",
    "# changing review into bool"
   ]
  },
  {
   "cell_type": "code",
   "execution_count": 18,
   "metadata": {
    "collapsed": true
   },
   "outputs": [],
   "source": [
    "data2 = df2[keyw + ['allcaps']]\n",
    "target2 = df2['review']"
   ]
  },
  {
   "cell_type": "code",
   "execution_count": 22,
   "metadata": {},
   "outputs": [
    {
     "name": "stdout",
     "output_type": "stream",
     "text": [
      "{'fit_time': array([ 0.00200009,  0.00299978,  0.00300479,  0.00250006,  0.00200009]), 'score_time': array([ 0.00099969,  0.00100017,  0.00049973,  0.00049996,  0.00050044]), 'test_score': array([ 0.54 ,  0.565,  0.51 ,  0.535,  0.525]), 'train_score': array([ 0.53625,  0.53125,  0.545  ,  0.53875,  0.54   ])}\n",
      "Number of mislabeled points out of a total 1000 points : 462\n"
     ]
    }
   ],
   "source": [
    "# Our data is binary / boolean, so we're importing the Bernoulli classifier.\n",
    "from sklearn.naive_bayes import BernoulliNB\n",
    "\n",
    "# importing CV\n",
    "from sklearn.model_selection import cross_validate\n",
    "\n",
    "# Instantiate our model and store it in a new variable.\n",
    "bnb = BernoulliNB()\n",
    "\n",
    "# Fitting CV\n",
    "print(cross_validate(bnb, data2, target2, cv=5))\n",
    "# Fit our model to the data.\n",
    "bnb.fit(data2, target2)\n",
    "\n",
    "# Classify, storing the result in a new variable.\n",
    "y_pred2 = bnb.predict(data2)\n",
    "\n",
    "# Display our results.\n",
    "print(\"Number of mislabeled points out of a total {} points : {}\".format(\n",
    "    data2.shape[0],\n",
    "    (target2 != y_pred2).sum()\n",
    "))"
   ]
  },
  {
   "cell_type": "markdown",
   "metadata": {},
   "source": [
    "### Results of CV\n",
    "\n",
    "This model is actually fitted very well.  Unlike our positive review model for Amazon. This model has very little difference between our test and train data."
   ]
  },
  {
   "cell_type": "code",
   "execution_count": 28,
   "metadata": {},
   "outputs": [
    {
     "name": "stdout",
     "output_type": "stream",
     "text": [
      "[[492   8]\n",
      " [454  46]]              precision    recall  f1-score   support\n",
      "\n",
      "      False       0.52      0.98      0.68       500\n",
      "       True       0.85      0.09      0.17       500\n",
      "\n",
      "avg / total       0.69      0.54      0.42      1000\n",
      "\n"
     ]
    }
   ],
   "source": [
    "# import confusion matrix\n",
    "from sklearn.metrics import confusion_matrix\n",
    "# import metrics report\n",
    "from sklearn.metrics import classification_report\n",
    "# calling confusion matrix\n",
    "print(confusion_matrix(target2, y_pred2),classification_report(target2, y_pred2))"
   ]
  },
  {
   "cell_type": "markdown",
   "metadata": {},
   "source": [
    "## Analysis for Negative Amazon Review Classifier\n",
    "\n",
    "This model is the least accurate so far with a 53.8% accuracy. Also, it wasn't the most precise with 8 false positives.  One positive thing about the model was its fitting."
   ]
  },
  {
   "cell_type": "markdown",
   "metadata": {},
   "source": [
    "## Conclusion\n",
    "\n",
    "I believe that my second model, Amazon positive gnb, was the best model I created.  Although my first model, the Amazon positive bnb, was the most accurate. It lacked percision with 31 false positive.  I believe this was do to the over fitting, that was shown with our cross validation.  Looking at the heat map for my first two models I don't think there was one feature that really stood out to me. It seems like they were pretty evenly used."
   ]
  },
  {
   "cell_type": "markdown",
   "metadata": {},
   "source": [
    "# EXTRA\n",
    "\n",
    "### Below was a test I ran trying to use PCA to increase efficiency... it did not work"
   ]
  },
  {
   "cell_type": "code",
   "execution_count": 23,
   "metadata": {},
   "outputs": [
    {
     "data": {
      "text/html": [
       "<div>\n",
       "<style>\n",
       "    .dataframe thead tr:only-child th {\n",
       "        text-align: right;\n",
       "    }\n",
       "\n",
       "    .dataframe thead th {\n",
       "        text-align: left;\n",
       "    }\n",
       "\n",
       "    .dataframe tbody tr th {\n",
       "        vertical-align: top;\n",
       "    }\n",
       "</style>\n",
       "<table border=\"1\" class=\"dataframe\">\n",
       "  <thead>\n",
       "    <tr style=\"text-align: right;\">\n",
       "      <th></th>\n",
       "      <th>message</th>\n",
       "      <th>review</th>\n",
       "      <th>bad</th>\n",
       "      <th>broken</th>\n",
       "      <th>worthless</th>\n",
       "      <th>garbage</th>\n",
       "      <th>trash</th>\n",
       "      <th>awful</th>\n",
       "      <th>expensive</th>\n",
       "      <th>refund</th>\n",
       "      <th>waste</th>\n",
       "      <th>wasted</th>\n",
       "      <th>problems</th>\n",
       "      <th>short</th>\n",
       "      <th>error</th>\n",
       "      <th>broke</th>\n",
       "      <th>money</th>\n",
       "      <th>allcaps</th>\n",
       "    </tr>\n",
       "  </thead>\n",
       "  <tbody>\n",
       "    <tr>\n",
       "      <th>0</th>\n",
       "      <td>So there is no way for me to plug it in here i...</td>\n",
       "      <td>True</td>\n",
       "      <td>False</td>\n",
       "      <td>False</td>\n",
       "      <td>False</td>\n",
       "      <td>False</td>\n",
       "      <td>False</td>\n",
       "      <td>False</td>\n",
       "      <td>False</td>\n",
       "      <td>False</td>\n",
       "      <td>False</td>\n",
       "      <td>False</td>\n",
       "      <td>False</td>\n",
       "      <td>False</td>\n",
       "      <td>False</td>\n",
       "      <td>False</td>\n",
       "      <td>False</td>\n",
       "      <td>False</td>\n",
       "    </tr>\n",
       "    <tr>\n",
       "      <th>1</th>\n",
       "      <td>Good case, Excellent value.</td>\n",
       "      <td>False</td>\n",
       "      <td>False</td>\n",
       "      <td>False</td>\n",
       "      <td>False</td>\n",
       "      <td>False</td>\n",
       "      <td>False</td>\n",
       "      <td>False</td>\n",
       "      <td>False</td>\n",
       "      <td>False</td>\n",
       "      <td>False</td>\n",
       "      <td>False</td>\n",
       "      <td>False</td>\n",
       "      <td>False</td>\n",
       "      <td>False</td>\n",
       "      <td>False</td>\n",
       "      <td>False</td>\n",
       "      <td>False</td>\n",
       "    </tr>\n",
       "    <tr>\n",
       "      <th>2</th>\n",
       "      <td>Great for the jawbone.</td>\n",
       "      <td>False</td>\n",
       "      <td>False</td>\n",
       "      <td>False</td>\n",
       "      <td>False</td>\n",
       "      <td>False</td>\n",
       "      <td>False</td>\n",
       "      <td>False</td>\n",
       "      <td>False</td>\n",
       "      <td>False</td>\n",
       "      <td>False</td>\n",
       "      <td>False</td>\n",
       "      <td>False</td>\n",
       "      <td>False</td>\n",
       "      <td>False</td>\n",
       "      <td>False</td>\n",
       "      <td>False</td>\n",
       "      <td>False</td>\n",
       "    </tr>\n",
       "    <tr>\n",
       "      <th>3</th>\n",
       "      <td>Tied to charger for conversations lasting more...</td>\n",
       "      <td>True</td>\n",
       "      <td>False</td>\n",
       "      <td>False</td>\n",
       "      <td>False</td>\n",
       "      <td>False</td>\n",
       "      <td>False</td>\n",
       "      <td>False</td>\n",
       "      <td>False</td>\n",
       "      <td>False</td>\n",
       "      <td>False</td>\n",
       "      <td>False</td>\n",
       "      <td>False</td>\n",
       "      <td>False</td>\n",
       "      <td>False</td>\n",
       "      <td>False</td>\n",
       "      <td>False</td>\n",
       "      <td>False</td>\n",
       "    </tr>\n",
       "    <tr>\n",
       "      <th>4</th>\n",
       "      <td>The mic is great.</td>\n",
       "      <td>False</td>\n",
       "      <td>False</td>\n",
       "      <td>False</td>\n",
       "      <td>False</td>\n",
       "      <td>False</td>\n",
       "      <td>False</td>\n",
       "      <td>False</td>\n",
       "      <td>False</td>\n",
       "      <td>False</td>\n",
       "      <td>False</td>\n",
       "      <td>False</td>\n",
       "      <td>False</td>\n",
       "      <td>False</td>\n",
       "      <td>False</td>\n",
       "      <td>False</td>\n",
       "      <td>False</td>\n",
       "      <td>False</td>\n",
       "    </tr>\n",
       "  </tbody>\n",
       "</table>\n",
       "</div>"
      ],
      "text/plain": [
       "                                             message  review    bad  broken  \\\n",
       "0  So there is no way for me to plug it in here i...    True  False   False   \n",
       "1                        Good case, Excellent value.   False  False   False   \n",
       "2                             Great for the jawbone.   False  False   False   \n",
       "3  Tied to charger for conversations lasting more...    True  False   False   \n",
       "4                                  The mic is great.   False  False   False   \n",
       "\n",
       "   worthless  garbage  trash  awful  expensive  refund  waste  wasted  \\\n",
       "0      False    False  False  False      False   False  False   False   \n",
       "1      False    False  False  False      False   False  False   False   \n",
       "2      False    False  False  False      False   False  False   False   \n",
       "3      False    False  False  False      False   False  False   False   \n",
       "4      False    False  False  False      False   False  False   False   \n",
       "\n",
       "   problems  short  error  broke  money  allcaps  \n",
       "0     False  False  False  False  False    False  \n",
       "1     False  False  False  False  False    False  \n",
       "2     False  False  False  False  False    False  \n",
       "3     False  False  False  False  False    False  \n",
       "4     False  False  False  False  False    False  "
      ]
     },
     "execution_count": 23,
     "metadata": {},
     "output_type": "execute_result"
    }
   ],
   "source": [
    "df2.head()"
   ]
  },
  {
   "cell_type": "code",
   "execution_count": 24,
   "metadata": {},
   "outputs": [
    {
     "data": {
      "text/plain": [
       "'Tied to charger for conversations lasting more than 45 minutes.MAJOR PROBLEMS!!'"
      ]
     },
     "execution_count": 24,
     "metadata": {},
     "output_type": "execute_result"
    }
   ],
   "source": [
    "df2['message'][3]"
   ]
  },
  {
   "cell_type": "code",
   "execution_count": 25,
   "metadata": {
    "collapsed": true
   },
   "outputs": [],
   "source": [
    "import math\n",
    "from matplotlib.mlab import PCA as mlabPCA\n",
    "from sklearn.preprocessing import StandardScaler\n",
    "from sklearn.decomposition import PCA "
   ]
  },
  {
   "cell_type": "code",
   "execution_count": 26,
   "metadata": {
    "collapsed": true
   },
   "outputs": [],
   "source": [
    "# next im going to use pca"
   ]
  },
  {
   "cell_type": "code",
   "execution_count": 27,
   "metadata": {},
   "outputs": [
    {
     "name": "stdout",
     "output_type": "stream",
     "text": [
      "The percentage of total variance in the dataset explained by each component from Sklearn PCA.\n",
      " [ 0.11375581  0.09159373  0.08409553]\n"
     ]
    }
   ],
   "source": [
    "df2_pca = df2.drop(['message','review'], axis=1)\n",
    "\n",
    "X = StandardScaler().fit_transform(df2_pca)\n",
    "\n",
    "sklearn_pca = PCA(n_components=3)\n",
    "Y_sklearn = sklearn_pca.fit_transform(X)\n",
    "\n",
    "print(\n",
    "    'The percentage of total variance in the dataset explained by each',\n",
    "    'component from Sklearn PCA.\\n',\n",
    "    sklearn_pca.explained_variance_ratio_\n",
    ")"
   ]
  },
  {
   "cell_type": "code",
   "execution_count": 28,
   "metadata": {
    "collapsed": true
   },
   "outputs": [],
   "source": [
    "# switching our old data to our new transformed data"
   ]
  },
  {
   "cell_type": "code",
   "execution_count": 29,
   "metadata": {
    "collapsed": true
   },
   "outputs": [],
   "source": [
    "data2 = Y_sklearn"
   ]
  },
  {
   "cell_type": "code",
   "execution_count": 30,
   "metadata": {
    "collapsed": true
   },
   "outputs": [],
   "source": [
    "from sklearn.feature_selection import VarianceThreshold"
   ]
  },
  {
   "cell_type": "code",
   "execution_count": 31,
   "metadata": {},
   "outputs": [
    {
     "name": "stdout",
     "output_type": "stream",
     "text": [
      "Number of mislabeled points out of a total 1000 points : 472\n"
     ]
    }
   ],
   "source": [
    "# Our data is binary / boolean, so we're importing the Bernoulli classifier.\n",
    "from sklearn.naive_bayes import BernoulliNB\n",
    "\n",
    "# Instantiate our model and store it in a new variable.\n",
    "bnb = BernoulliNB()\n",
    "\n",
    "# Fit our model to the data.\n",
    "bnb.fit(data2, target2)\n",
    "\n",
    "# Classify, storing the result in a new variable.\n",
    "y_pred2 = bnb.predict(data2)\n",
    "\n",
    "# Display our results.\n",
    "print(\"Number of mislabeled points out of a total {} points : {}\".format(\n",
    "    data2.shape[0],\n",
    "    (target2 != y_pred2).sum()\n",
    "))"
   ]
  },
  {
   "cell_type": "code",
   "execution_count": 32,
   "metadata": {},
   "outputs": [
    {
     "data": {
      "text/plain": [
       "array([[492,   8],\n",
       "       [464,  36]], dtype=int64)"
      ]
     },
     "execution_count": 32,
     "metadata": {},
     "output_type": "execute_result"
    }
   ],
   "source": [
    "confusion_matrix(target2, y_pred2)"
   ]
  },
  {
   "cell_type": "code",
   "execution_count": 33,
   "metadata": {},
   "outputs": [
    {
     "name": "stdout",
     "output_type": "stream",
     "text": [
      "             precision    recall  f1-score   support\n",
      "\n",
      "      False       0.51      0.98      0.68       500\n",
      "       True       0.82      0.07      0.13       500\n",
      "\n",
      "avg / total       0.67      0.53      0.40      1000\n",
      "\n"
     ]
    }
   ],
   "source": [
    "print(classification_report(target2, y_pred2))"
   ]
  },
  {
   "cell_type": "code",
   "execution_count": null,
   "metadata": {
    "collapsed": true
   },
   "outputs": [],
   "source": []
  }
 ],
 "metadata": {
  "kernelspec": {
   "display_name": "Python 3",
   "language": "python",
   "name": "python3"
  },
  "language_info": {
   "codemirror_mode": {
    "name": "ipython",
    "version": 3
   },
   "file_extension": ".py",
   "mimetype": "text/x-python",
   "name": "python",
   "nbconvert_exporter": "python",
   "pygments_lexer": "ipython3",
   "version": "3.6.1"
  }
 },
 "nbformat": 4,
 "nbformat_minor": 2
}
